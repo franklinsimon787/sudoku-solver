{
 "cells": [
  {
   "cell_type": "code",
   "execution_count": 17,
   "metadata": {},
   "outputs": [
    {
     "name": "stdout",
     "output_type": "stream",
     "text": [
      "[[3 8 0 0 6 9 0 4 0]\n",
      " [6 0 0 5 0 0 0 3 2]\n",
      " [0 9 0 3 0 0 1 0 0]\n",
      " [8 0 3 0 0 0 0 0 9]\n",
      " [9 4 0 0 8 0 0 5 7]\n",
      " [1 0 0 0 0 0 2 0 6]\n",
      " [0 0 8 0 0 6 0 9 0]\n",
      " [4 7 0 0 0 5 0 0 1]\n",
      " [0 6 0 9 4 0 0 7 3]]\n"
     ]
    }
   ],
   "source": [
    "import numpy as np\n",
    "grid=[[3,8,0,0,6,9,0,4,0],\n",
    "      [6,0,0,5,0,0,0,3,2],\n",
    "      [0,9,0,3,0,0,1,0,0],\n",
    "      [8,0,3,0,0,0,0,0,9],\n",
    "      [9,4,0,0,8,0,0,5,7],\n",
    "      [1,0,0,0,0,0,2,0,6],\n",
    "      [0,0,8,0,0,6,0,9,0],\n",
    "      [4,7,0,0,0,5,0,0,1],\n",
    "      [0,6,0,9,4,0,0,7,3]]\n",
    "#print(grid)\n",
    "print(np.matrix(grid))"
   ]
  },
  {
   "cell_type": "code",
   "execution_count": 18,
   "metadata": {},
   "outputs": [],
   "source": [
    "def suduko(y,x,n):\n",
    "    global grid\n",
    "    for i in range(0,9):\n",
    "        if grid[y][i] == n:\n",
    "            return False\n",
    "    for i in range(0,9):\n",
    "        if grid[i][x] == n:\n",
    "            return False\n",
    "    x0=(x//3)*3\n",
    "    y0=(y//3)*3\n",
    "    for i in range(0,3):\n",
    "        for j in range(0,3):\n",
    "            if grid[y0+i][x0+j] == n:\n",
    "                return False\n",
    "    return True"
   ]
  },
  {
   "cell_type": "code",
   "execution_count": 19,
   "metadata": {},
   "outputs": [],
   "source": [
    "def solve():\n",
    "    global grid\n",
    "    for y in range(9):\n",
    "        for x in range(9):\n",
    "            if grid[y][x] == 0:\n",
    "                for n in range(1,10):\n",
    "                    if suduko(y,x,n):\n",
    "                        grid[y][x] = n\n",
    "                        solve()\n",
    "                        grid[y][x] = 0\n",
    "                return    \n",
    "    print(np.matrix(grid))"
   ]
  },
  {
   "cell_type": "code",
   "execution_count": 20,
   "metadata": {},
   "outputs": [
    {
     "name": "stdout",
     "output_type": "stream",
     "text": [
      "[[3 8 2 1 6 9 7 4 5]\n",
      " [6 1 4 5 7 8 9 3 2]\n",
      " [7 9 5 3 2 4 1 6 8]\n",
      " [8 2 3 6 5 7 4 1 9]\n",
      " [9 4 6 2 8 1 3 5 7]\n",
      " [1 5 7 4 9 3 2 8 6]\n",
      " [2 3 8 7 1 6 5 9 4]\n",
      " [4 7 9 8 3 5 6 2 1]\n",
      " [5 6 1 9 4 2 8 7 3]]\n"
     ]
    }
   ],
   "source": [
    "solve()"
   ]
  },
  {
   "cell_type": "code",
   "execution_count": null,
   "metadata": {},
   "outputs": [],
   "source": []
  },
  {
   "cell_type": "code",
   "execution_count": null,
   "metadata": {},
   "outputs": [],
   "source": []
  }
 ],
 "metadata": {
  "kernelspec": {
   "display_name": "Python 3",
   "language": "python",
   "name": "python3"
  },
  "language_info": {
   "codemirror_mode": {
    "name": "ipython",
    "version": 3
   },
   "file_extension": ".py",
   "mimetype": "text/x-python",
   "name": "python",
   "nbconvert_exporter": "python",
   "pygments_lexer": "ipython3",
   "version": "3.7.3"
  }
 },
 "nbformat": 4,
 "nbformat_minor": 2
}
